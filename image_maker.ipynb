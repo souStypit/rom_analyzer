{
 "cells": [
  {
   "cell_type": "code",
   "execution_count": null,
   "metadata": {},
   "outputs": [],
   "source": [
    "from numpy import genfromtxt\n",
    "from matplotlib.image import imsave\n",
    "my_data = genfromtxt('data_from_gvm.csv', delimiter=',')\n",
    "imsave('image_from_data.png', my_data, cmap='gray')"
   ]
  }
 ],
 "metadata": {
  "language_info": {
   "name": "python"
  },
  "orig_nbformat": 4
 },
 "nbformat": 4,
 "nbformat_minor": 2
}
